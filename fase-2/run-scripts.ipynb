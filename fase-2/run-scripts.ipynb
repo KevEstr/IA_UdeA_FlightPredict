{
 "cells": [
  {
   "cell_type": "code",
   "execution_count": 10,
   "metadata": {},
   "outputs": [],
   "source": [
    "import os\n",
    "import subprocess\n",
    "import pandas as pd\n",
    "import numpy as np"
   ]
  },
  {
   "cell_type": "markdown",
   "metadata": {},
   "source": [
    "## Definir rutas de archivos\n"
   ]
  },
  {
   "cell_type": "code",
   "execution_count": 11,
   "metadata": {},
   "outputs": [],
   "source": [
    "train_data_file = 'train_df.csv'\n",
    "test_input_file = 'train_df.csv'\n",
    "model_file = 'modelo_entrenado.pkl'\n",
    "predictions_file = 'prediccion_aerolineas.csv'"
   ]
  },
  {
   "cell_type": "markdown",
   "metadata": {},
   "source": [
    "## Entrenar el modelo"
   ]
  },
  {
   "cell_type": "code",
   "execution_count": 16,
   "metadata": {},
   "outputs": [
    {
     "name": "stdout",
     "output_type": "stream",
     "text": [
      "Entrenando el modelo...\n"
     ]
    },
    {
     "data": {
      "text/plain": [
       "CompletedProcess(args='docker run -it -v c:\\\\Users\\\\estra\\\\OneDrive\\\\Escritorio\\\\IA\\\\IA_UdeA_FlightPredict_Phase_2-main\\\\fase-2:/app fase_2 python train.py train_df.csv', returncode=1)"
      ]
     },
     "execution_count": 16,
     "metadata": {},
     "output_type": "execute_result"
    }
   ],
   "source": [
    "print(\"Entrenando el modelo...\")\n",
    "subprocess.run(f\"docker run -it -v {os.getcwd()}:/app fase_2 python train.py {train_data_file}\", shell=True)"
   ]
  },
  {
   "cell_type": "markdown",
   "metadata": {},
   "source": [
    "## Hacer Predicciones"
   ]
  },
  {
   "cell_type": "code",
   "execution_count": 13,
   "metadata": {},
   "outputs": [
    {
     "name": "stdout",
     "output_type": "stream",
     "text": [
      "Realizando predicciones...\n"
     ]
    },
    {
     "data": {
      "text/plain": [
       "CompletedProcess(args='docker run -it -v c:\\\\Users\\\\estra\\\\OneDrive\\\\Escritorio\\\\IA\\\\IA_UdeA_FlightPredict_Phase_2-main\\\\fase-2:/app fase_2 python predict.py train_df.csv modelo_entrenado.pkl', returncode=1)"
      ]
     },
     "execution_count": 13,
     "metadata": {},
     "output_type": "execute_result"
    }
   ],
   "source": [
    "# Hacer predicciones\n",
    "print(\"Realizando predicciones...\")\n",
    "subprocess.run(f\"docker run -it -v {os.getcwd()}:/app fase_2 python predict.py {test_input_file} {model_file}\", shell=True)"
   ]
  },
  {
   "cell_type": "markdown",
   "metadata": {},
   "source": [
    "## Cargar y mostrar resultados\n"
   ]
  },
  {
   "cell_type": "code",
   "execution_count": 14,
   "metadata": {},
   "outputs": [
    {
     "name": "stdout",
     "output_type": "stream",
     "text": [
      "\n",
      "Primeras filas de las predicciones:\n",
      "   SCHEDULED_DEPARTURE    SCHEDULED_ARRIVAL ORIGIN_AIRPORT  \\\n",
      "0  2015-01-01 00:05:00  2024-10-07 04:30:00            ANC   \n",
      "1  2015-01-01 00:10:00  2024-10-07 07:50:00            LAX   \n",
      "2  2015-01-01 00:20:00  2024-10-07 08:06:00            SFO   \n",
      "3  2015-01-01 00:20:00  2024-10-07 08:05:00            LAX   \n",
      "4  2015-01-01 00:25:00  2024-10-07 03:20:00            SEA   \n",
      "\n",
      "  DESTINATION_AIRPORT  DEPARTURE_DELAY AIRLINE  weekday  DELAY_CLASS  \\\n",
      "0                 SEA            -11.0      AS        3            0   \n",
      "1                 PBI             -8.0      AA        3            0   \n",
      "2                 CLT             -2.0      US        3            0   \n",
      "3                 MIA             -5.0      AA        3            0   \n",
      "4                 ANC             -1.0      AS        3            0   \n",
      "\n",
      "   heure_depart  heure_arrivee  ORIGIN_AIRPORT_ENC  AIRLINE_ENC  \\\n",
      "0           300          16200                  15            1   \n",
      "1           600          28200                 168            0   \n",
      "2          1200          29160                 269           11   \n",
      "3          1200          29100                 168            0   \n",
      "4          1500          12000                 268            1   \n",
      "\n",
      "   Prediccion_Retraso  \n",
      "0                   0  \n",
      "1                   0  \n",
      "2                   0  \n",
      "3                   0  \n",
      "4                   0  \n"
     ]
    }
   ],
   "source": [
    "predictions = pd.read_csv(predictions_file)\n",
    "print(\"\\nPrimeras filas de las predicciones:\")\n",
    "print(predictions.head())"
   ]
  },
  {
   "cell_type": "markdown",
   "metadata": {},
   "source": [
    "## Mostrar la precisión\n"
   ]
  },
  {
   "cell_type": "code",
   "execution_count": 15,
   "metadata": {},
   "outputs": [
    {
     "name": "stdout",
     "output_type": "stream",
     "text": [
      "\n",
      "Precisión en el conjunto de prueba: 0.779\n"
     ]
    }
   ],
   "source": [
    "accuracy = np.mean(predictions['Prediccion_Retraso'] == predictions['DELAY_CLASS'])\n",
    "print(f\"\\nPrecisión en el conjunto de prueba: {accuracy:.3f}\")\n"
   ]
  }
 ],
 "metadata": {
  "kernelspec": {
   "display_name": "Python 3",
   "language": "python",
   "name": "python3"
  },
  "language_info": {
   "codemirror_mode": {
    "name": "ipython",
    "version": 3
   },
   "file_extension": ".py",
   "mimetype": "text/x-python",
   "name": "python",
   "nbconvert_exporter": "python",
   "pygments_lexer": "ipython3",
   "version": "3.10.0"
  }
 },
 "nbformat": 4,
 "nbformat_minor": 2
}
