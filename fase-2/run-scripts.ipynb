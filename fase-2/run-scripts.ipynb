{
 "cells": [
  {
   "cell_type": "code",
   "execution_count": 8,
   "metadata": {},
   "outputs": [],
   "source": [
    "import os\n",
    "import subprocess\n",
    "import pandas as pd\n",
    "import numpy as np"
   ]
  },
  {
   "cell_type": "markdown",
   "metadata": {},
   "source": [
    "## Definir rutas de archivos\n"
   ]
  },
  {
   "cell_type": "code",
   "execution_count": 9,
   "metadata": {},
   "outputs": [],
   "source": [
    "train_data_file = 'train_df.csv'\n",
    "test_input_file = 'test_df.csv'\n",
    "model_file = 'modelo_entrenado.pkl'\n",
    "predictions_file = 'predicciones_aerolineas.csv'"
   ]
  },
  {
   "cell_type": "markdown",
   "metadata": {},
   "source": [
    "## Entrenar el modelo"
   ]
  },
  {
   "cell_type": "code",
   "execution_count": 10,
   "metadata": {},
   "outputs": [
    {
     "name": "stdout",
     "output_type": "stream",
     "text": [
      "Entrenando el modelo...\n"
     ]
    },
    {
     "data": {
      "text/plain": [
       "CompletedProcess(args='docker run -v c:\\\\Users\\\\estra\\\\IA_UdeA_FlightPredict\\\\fase-2:/app fase_2 python train.py train_df.csv', returncode=0)"
      ]
     },
     "execution_count": 10,
     "metadata": {},
     "output_type": "execute_result"
    }
   ],
   "source": [
    "# Entrenar el modelo\n",
    "print(\"Entrenando el modelo...\")\n",
    "subprocess.run(f\"docker run -v {os.getcwd()}:/app fase_2 python train.py {train_data_file}\", shell=True, check=True)"
   ]
  },
  {
   "cell_type": "markdown",
   "metadata": {},
   "source": [
    "## Hacer Predicciones"
   ]
  },
  {
   "cell_type": "code",
   "execution_count": 15,
   "metadata": {},
   "outputs": [
    {
     "name": "stdout",
     "output_type": "stream",
     "text": [
      "Realizando predicciones...\n"
     ]
    },
    {
     "data": {
      "text/plain": [
       "CompletedProcess(args='docker run -v c:\\\\Users\\\\estra\\\\IA_UdeA_FlightPredict\\\\fase-2:/app fase_2 python predict.py test_df.csv modelo_entrenado.pkl', returncode=0)"
      ]
     },
     "execution_count": 15,
     "metadata": {},
     "output_type": "execute_result"
    }
   ],
   "source": [
    "# Hacer predicciones\n",
    "print(\"Realizando predicciones...\")\n",
    "subprocess.run(f\"docker run -v {os.getcwd()}:/app fase_2 python predict.py {test_input_file} {model_file}\", shell=True)"
   ]
  },
  {
   "cell_type": "markdown",
   "metadata": {},
   "source": [
    "## Cargar y mostrar resultados\n"
   ]
  },
  {
   "cell_type": "code",
   "execution_count": 16,
   "metadata": {},
   "outputs": [
    {
     "name": "stdout",
     "output_type": "stream",
     "text": [
      "\n",
      "Primeras filas de las predicciones:\n",
      "   SCHEDULED_DEPARTURE  SCHEDULED_ARRIVAL ORIGIN_AIRPORT DESTINATION_AIRPORT  \\\n",
      "0  2015-01-01 00:05:00                NaN            ANC                 SEA   \n",
      "1  2015-01-01 00:10:00                NaN            LAX                 PBI   \n",
      "2  2015-01-01 00:20:00                NaN            SFO                 CLT   \n",
      "3  2015-01-01 00:20:00                NaN            LAX                 MIA   \n",
      "4  2015-01-01 00:25:00                NaN            SEA                 ANC   \n",
      "\n",
      "   DEPARTURE_DELAY AIRLINE  weekday  DELAY_CLASS  heure_depart  heure_arrivee  \\\n",
      "0              -11      AS        3            0           300            NaN   \n",
      "1               -8      AA        3            0           600            NaN   \n",
      "2               -2      US        3            0          1200            NaN   \n",
      "3               -5      AA        3            0          1200            NaN   \n",
      "4               -1      AS        3            0          1500            NaN   \n",
      "\n",
      "   ORIGIN_AIRPORT_ENC  AIRLINE_ENC  Prediccion_Retraso  \n",
      "0                  15            1                   0  \n",
      "1                 168            0                   0  \n",
      "2                 269           11                   0  \n",
      "3                 168            0                   0  \n",
      "4                 268            1                   0  \n"
     ]
    }
   ],
   "source": [
    "predictions = pd.read_csv(predictions_file)\n",
    "print(\"\\nPrimeras filas de las predicciones:\")\n",
    "print(predictions.head())"
   ]
  },
  {
   "cell_type": "markdown",
   "metadata": {},
   "source": [
    "## Mostrar la precisión\n"
   ]
  },
  {
   "cell_type": "code",
   "execution_count": 17,
   "metadata": {},
   "outputs": [
    {
     "name": "stdout",
     "output_type": "stream",
     "text": [
      "\n",
      "Precisión en el conjunto de prueba: 0.759\n"
     ]
    }
   ],
   "source": [
    "accuracy = np.mean(predictions['Prediccion_Retraso'] == predictions['DELAY_CLASS'])\n",
    "print(f\"\\nPrecisión en el conjunto de prueba: {accuracy:.3f}\")\n"
   ]
  }
 ],
 "metadata": {
  "kernelspec": {
   "display_name": "Python 3",
   "language": "python",
   "name": "python3"
  },
  "language_info": {
   "codemirror_mode": {
    "name": "ipython",
    "version": 3
   },
   "file_extension": ".py",
   "mimetype": "text/x-python",
   "name": "python",
   "nbconvert_exporter": "python",
   "pygments_lexer": "ipython3",
   "version": "3.10.0"
  }
 },
 "nbformat": 4,
 "nbformat_minor": 2
}
