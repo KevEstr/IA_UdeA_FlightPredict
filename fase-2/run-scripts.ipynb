{
 "cells": [
  {
   "cell_type": "code",
   "execution_count": 57,
   "metadata": {},
   "outputs": [],
   "source": [
    "import os\n",
    "import subprocess\n",
    "import pandas as pd\n",
    "import numpy as np"
   ]
  },
  {
   "cell_type": "markdown",
   "metadata": {},
   "source": [
    "## Definir rutas de archivos\n"
   ]
  },
  {
   "cell_type": "code",
   "execution_count": 58,
   "metadata": {},
   "outputs": [],
   "source": [
    "train_data_file = 'train_df.csv'\n",
    "test_input_file = 'test_df.csv'\n",
    "model_file = 'modelo_entrenado.pkl'\n",
    "predictions_file = 'predicciones_aerolineas.csv'"
   ]
  },
  {
   "cell_type": "markdown",
   "metadata": {},
   "source": [
    "## Crear la imagen\n"
   ]
  },
  {
   "cell_type": "code",
   "execution_count": 61,
   "metadata": {},
   "outputs": [
    {
     "name": "stdout",
     "output_type": "stream",
     "text": [
      "Creando la imagen...\n"
     ]
    },
    {
     "data": {
      "text/plain": [
       "CompletedProcess(args='docker build -t fase2 .', returncode=0)"
      ]
     },
     "execution_count": 61,
     "metadata": {},
     "output_type": "execute_result"
    }
   ],
   "source": [
    "# Entrenar el modelo\n",
    "print(\"Creando la imagen...\")\n",
    "subprocess.run(f\"docker build -t fase2 .\", shell=True, check=True)"
   ]
  },
  {
   "cell_type": "markdown",
   "metadata": {},
   "source": [
    "## Entrenar el modelo"
   ]
  },
  {
   "cell_type": "code",
   "execution_count": 62,
   "metadata": {},
   "outputs": [
    {
     "name": "stdout",
     "output_type": "stream",
     "text": [
      "Entrenando el modelo...\n"
     ]
    }
   ],
   "source": [
    "# Entrenar el modelo\n",
    "print(\"Entrenando el modelo...\")\n",
    "result = subprocess.run(f\"docker run -v {os.getcwd()}:/app fase2 python train.py {train_data_file}\", shell=True, check=True)"
   ]
  },
  {
   "cell_type": "markdown",
   "metadata": {},
   "source": [
    "## Hacer Predicciones"
   ]
  },
  {
   "cell_type": "code",
   "execution_count": 63,
   "metadata": {},
   "outputs": [
    {
     "name": "stdout",
     "output_type": "stream",
     "text": [
      "Realizando predicciones...\n"
     ]
    },
    {
     "data": {
      "text/plain": [
       "CompletedProcess(args='docker run -v c:\\\\Users\\\\ASUS\\\\Desktop\\\\entrega-kevin-dos\\\\fase-2:/app fase2 python predict.py test_df.csv modelo_entrenado.pkl', returncode=0)"
      ]
     },
     "execution_count": 63,
     "metadata": {},
     "output_type": "execute_result"
    }
   ],
   "source": [
    "# Hacer predicciones\n",
    "print(\"Realizando predicciones...\")\n",
    "subprocess.run(f\"docker run -v {os.getcwd()}:/app fase2 python predict.py {test_input_file} {model_file}\", shell=True)"
   ]
  },
  {
   "cell_type": "markdown",
   "metadata": {},
   "source": [
    "## Cargar y mostrar resultados\n"
   ]
  },
  {
   "cell_type": "code",
   "execution_count": 64,
   "metadata": {},
   "outputs": [
    {
     "name": "stdout",
     "output_type": "stream",
     "text": [
      "\n",
      "Primeras filas de las predicciones:\n",
      "   SCHEDULED_DEPARTURE SCHEDULED_ARRIVAL ORIGIN_AIRPORT DESTINATION_AIRPORT  \\\n",
      "0  2015-01-01 00:05:00          04:56:00            ANC                 SEA   \n",
      "1  2015-01-01 00:10:00          09:44:00            LAX                 PBI   \n",
      "2  2015-01-01 00:20:00          20:31:00            SFO                 CLT   \n",
      "3  2015-01-01 00:20:00          20:54:00            LAX                 MIA   \n",
      "4  2015-01-01 00:25:00          06:49:00            SEA                 ANC   \n",
      "\n",
      "   DEPARTURE_DELAY AIRLINE  weekday  DELAY_CLASS  heure_depart  heure_arrivee  \\\n",
      "0              -11      AS        3            0           300          17760   \n",
      "1               -8      AA        3            0           600          35040   \n",
      "2               -2      US        3            0          1200          73860   \n",
      "3               -5      AA        3            0          1200          75240   \n",
      "4               -1      AS        3            0          1500          24540   \n",
      "\n",
      "   ORIGIN_AIRPORT_ENC  AIRLINE_ENC  Prediccion_Retraso  \n",
      "0                  15            1                   0  \n",
      "1                 168            0                   0  \n",
      "2                 269           11                   1  \n",
      "3                 168            0                   1  \n",
      "4                 268            1                   0  \n"
     ]
    }
   ],
   "source": [
    "predictions = pd.read_csv(predictions_file)\n",
    "test = pd.read_csv(test_input_file)\n",
    "print(\"\\nPrimeras filas de las predicciones:\")\n",
    "print(predictions.head())"
   ]
  },
  {
   "cell_type": "markdown",
   "metadata": {},
   "source": [
    "## Mostrar la precisión\n"
   ]
  },
  {
   "cell_type": "code",
   "execution_count": 65,
   "metadata": {},
   "outputs": [
    {
     "name": "stdout",
     "output_type": "stream",
     "text": [
      "\n",
      "Precisión en el conjunto de prueba: 0.776\n"
     ]
    }
   ],
   "source": [
    "accuracy = np.mean(predictions['Prediccion_Retraso'] == predictions['DELAY_CLASS'])\n",
    "print(f\"\\nPrecisión en el conjunto de prueba: {accuracy:.3f}\")\n"
   ]
  }
 ],
 "metadata": {
  "kernelspec": {
   "display_name": "Python 3",
   "language": "python",
   "name": "python3"
  },
  "language_info": {
   "codemirror_mode": {
    "name": "ipython",
    "version": 3
   },
   "file_extension": ".py",
   "mimetype": "text/x-python",
   "name": "python",
   "nbconvert_exporter": "python",
   "pygments_lexer": "ipython3",
   "version": "3.10.0"
  }
 },
 "nbformat": 4,
 "nbformat_minor": 2
}
